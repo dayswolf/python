{
 "cells": [
  {
   "cell_type": "markdown",
   "metadata": {},
   "source": [
    "### Kullanıcı girişi örneği "
   ]
  },
  {
   "cell_type": "code",
   "execution_count": 1,
   "metadata": {},
   "outputs": [
    {
     "name": "stdout",
     "output_type": "stream",
     "text": [
      "Kullanıcı adınızı giriniz:hale\n",
      "Parolanızı giriniz:aaa\n",
      "Parola hatalı be\n",
      "şifrenizimi unuttunuz?:evet\n",
      "unutmasaydın\n",
      "Kullanıcı adınızı giriniz:haleee\n",
      "Parolanızı giriniz:halee\n",
      "Kullanıcı adı ve parola hatalı be\n",
      "Kullanıcı adınızı giriniz:hhhh\n",
      "Parolanızı giriniz:hhhh\n",
      "Kullanıcı adı ve parola hatalı be\n",
      "Hakkın bitti kardeşim GG\n"
     ]
    }
   ],
   "source": [
    "sys_kullanıcı_adı = \"hale\"\n",
    "sys_parola = \"1234\"\n",
    "sys_giriş_hakkı = 3\n",
    "while True:\n",
    "    kullanıcı_adı = input (\"Kullanıcı adınızı giriniz:\")\n",
    "    parola = input (\"Parolanızı giriniz:\")\n",
    "    \n",
    "    if (kullanıcı_adı == sys_kullanıcı_adı and parola != sys_parola):\n",
    "        print(\"Parola hatalı be\")\n",
    "        sys_giriş_hakkı -= 1\n",
    "        sifre_unutma = input (\"şifrenizimi unuttunuz?:\")\n",
    "        e = \"evet\"\n",
    "        h = \"hayır\"\n",
    "        if (sifre_unutma == e):\n",
    "            print(\"unutmasaydın\")\n",
    "        else:\n",
    "            print(\"tamam\")\n",
    "           \n",
    "    elif (kullanıcı_adı != sys_kullanıcı_adı and parola == sys_parola):\n",
    "        print(\"Kullanıcı adı hatalı be\")\n",
    "        sys_giriş_hakkı -= 1\n",
    "    elif (kullanıcı_adı != sys_kullanıcı_adı and parola != sys_parola):\n",
    "        print(\"Kullanıcı adı ve parola hatalı be\")\n",
    "        sys_giriş_hakkı -= 1\n",
    "    else:\n",
    "        print(\"Sisteme girdin sonunda\")\n",
    "        break\n",
    "    if (sys_giriş_hakkı == 0):\n",
    "        print (\"Hakkın bitti kardeşim GG\")\n",
    "        break"
   ]
  },
  {
   "cell_type": "code",
   "execution_count": null,
   "metadata": {},
   "outputs": [],
   "source": []
  }
 ],
 "metadata": {
  "kernelspec": {
   "display_name": "Python 3",
   "language": "python",
   "name": "python3"
  },
  "language_info": {
   "codemirror_mode": {
    "name": "ipython",
    "version": 3
   },
   "file_extension": ".py",
   "mimetype": "text/x-python",
   "name": "python",
   "nbconvert_exporter": "python",
   "pygments_lexer": "ipython3",
   "version": "3.8.3"
  }
 },
 "nbformat": 4,
 "nbformat_minor": 4
}
